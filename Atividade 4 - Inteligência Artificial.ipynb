{
 "cells": [
  {
   "cell_type": "markdown",
   "metadata": {},
   "source": [
    "# Trabalho de Inteligência Artificial - 2019/2\n",
    "\n",
    "Gustavo Eugênio de Souza Moraes RA: 620238<br>\n",
    "Gabriel Givigi Oliveira RA: 760924"
   ]
  },
  {
   "cell_type": "markdown",
   "metadata": {},
   "source": [
    "### Bibliotecas utilizadas e variáveis globais"
   ]
  },
  {
   "cell_type": "code",
   "execution_count": 1,
   "metadata": {},
   "outputs": [],
   "source": [
    "from pandas import DataFrame, read_csv # for reading tsv files and structuring\n",
    "import math # for mathematical functions\n",
    "import numpy as np # for vector stuff\n",
    "import matplotlib.pyplot as plt # for plotting graphs\n",
    "from scipy.spatial import distance, distance_matrix  # for euclidian distance\n",
    "from random import randint # for generating random colors\n",
    "\n",
    "dataset1 = read_csv(\"datasets/c2ds1-2sp.txt\", sep=\"\\t\", index_col=\"sample_label\") # Lê o arquivo de dados\n",
    "dataset2 = read_csv(\"datasets/c2ds3-2g.txt\", sep=\"\\t\", index_col=\"sample_label\") # Lê o arquivo de dados\n",
    "dataset3 = read_csv(\"datasets/monkey.txt\", sep=\"\\t\", index_col=\"sample_label\") # Lê o arquivo de dados\n",
    "\n",
    "datatest = dataset1[:]"
   ]
  },
  {
   "cell_type": "code",
   "execution_count": 2,
   "metadata": {},
   "outputs": [],
   "source": [
    "def k_medias(k, dataframe, n_iterations):\n",
    "    \n",
    "    # initialize clusters and centroids with k-first rows\n",
    "    for index in range(k): \n",
    "        dataframe.iat[index,2] = index\n",
    "        \n",
    "    centroid = dataframe.iloc[:k].set_index('cluster_id').copy()\n",
    "\n",
    "    # run n_iteration times\n",
    "    for j in range(n_iterations): \n",
    "        # (re)calc centroids\n",
    "        for i in range(0, k): \n",
    "            centroid.loc[i] = {'d1':this.d1.mean(), 'd2':this.d2.mean(), 'cluster_id':i} # atualizing centroid i\n",
    "        \n",
    "        # for each sample, compare disctance with centroid\n",
    "        for index_data, row_data in dataframe.iterrows(): \n",
    "            calculated_distance = []\n",
    "            \n",
    "            for index_centroid, row_centroid in centroid.iterrows(): # checks each sample and takes the distances\n",
    "                calculated_distance.append(distance.euclidean([row_data['d1'], row_data['d2']], [row_centroid['d1'], row_centroid['d2']]))\n",
    "                \n",
    "            row_data.loc['cluster_id'] = calculated_distance.index(min(calculated_distance)) # saves the shortest distance\n",
    "            dataframe.loc[index_data] = row_data # sends it back to the dataframe\n",
    "            \n",
    "    return dataframe"
   ]
  },
  {
   "cell_type": "code",
   "execution_count": 3,
   "metadata": {},
   "outputs": [],
   "source": [
    "def single_link(dataframe, k_min, k_max):\n",
    "    \n",
    "    # creates a distance matrix in dataframe format\n",
    "    dist_matrix = DataFrame(distance_matrix(dataframe.values, dataframe.values))\n",
    "\n",
    "    ### TODO: ENABLE CLUSTERING SEPARATION\n",
    "    \n",
    "    for k in range(len(dataframe), k_min, -1):\n",
    "    \n",
    "        closest_idx = []\n",
    "        closest_values = []\n",
    "\n",
    "        # initializing position and possible closest\n",
    "        pos = 0\n",
    "        possible_closest = [0,1]\n",
    "        # for each row\n",
    "        while(pos < len(dist_matrix)-1):\n",
    "\n",
    "            # find closest pair of this row\n",
    "            possible_closest = [dist_matrix.index[pos], dist_matrix.iloc[pos, pos+1:].idxmin()]\n",
    "\n",
    "            # add index and values to respectives possible's list\n",
    "            closest_idx.append(possible_closest)\n",
    "            closest_values.append(dist_matrix.at[possible_closest[0], possible_closest[1]])\n",
    "\n",
    "            # iteration end\n",
    "            pos+=1\n",
    "\n",
    "        # find the closest pair of all clusters\n",
    "        [p1, p2] = closest_idx[closest_values.index(min(closest_values))]\n",
    "\n",
    "        # get the first point's row of the closest pair\n",
    "        row = dist_matrix.loc[p1]\n",
    "\n",
    "        # find minimum distances in p1 and p2, saves them in p1 \n",
    "        for index, value in row.iteritems():\n",
    "            dist_matrix.at[index, p1] = min(value, dist_matrix.at[p2, index])\n",
    "        # drops p2 for it's irrelevance, p2 is inside p1 now\n",
    "        dist_matrix = dist_matrix.drop(index=p2, columns=p2)\n",
    "        \n",
    "        print(\"Done with k  = %d\" % k)\n",
    "            \n",
    "    return"
   ]
  },
  {
   "cell_type": "markdown",
   "metadata": {},
   "source": [
    "# Rodando os algoritmos"
   ]
  },
  {
   "cell_type": "code",
   "execution_count": 4,
   "metadata": {},
   "outputs": [],
   "source": [
    "# single_link(datatest, 1, 2)"
   ]
  }
 ],
 "metadata": {
  "kernelspec": {
   "display_name": "Python 3",
   "language": "python",
   "name": "python3"
  },
  "language_info": {
   "codemirror_mode": {
    "name": "ipython",
    "version": 3
   },
   "file_extension": ".py",
   "mimetype": "text/x-python",
   "name": "python",
   "nbconvert_exporter": "python",
   "pygments_lexer": "ipython3",
   "version": "3.8.5"
  }
 },
 "nbformat": 4,
 "nbformat_minor": 2
}
